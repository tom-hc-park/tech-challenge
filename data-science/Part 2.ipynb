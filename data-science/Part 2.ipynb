{
 "cells": [
  {
   "cell_type": "markdown",
   "id": "f40cb8d2-8d21-4482-834e-8e39289c659d",
   "metadata": {},
   "source": [
    "# Part 2: System Analysis & Optimization\n",
    "There are two directions of interest, and the ideas were listed in the ascending order of complexity.  \n",
    "Part 2 answers follows assumptions and results made from Part 1.\n",
    "## Text Note Classification\n",
    "Keep the quality of human written text data with consistency\n",
    "\n",
    "## Detect Redundant Censor for Minizing Cost  \n",
    "Multicolinearity (correlations between covariates)"
   ]
  },
  {
   "cell_type": "code",
   "execution_count": 1,
   "id": "db1b85c5-0fa7-49ed-a513-122fd7f19176",
   "metadata": {},
   "outputs": [],
   "source": [
    "import pandas as pd\n",
    "import numpy as np\n",
    "import matplotlib.pyplot as plt\n",
    "import seaborn as sns\n",
    "import missingno as msno\n",
    "import os"
   ]
  },
  {
   "cell_type": "code",
   "execution_count": 33,
   "id": "58f9dcd4-62bf-4805-895d-edbca571a1e3",
   "metadata": {},
   "outputs": [],
   "source": [
    "df = pd.read_csv('./df_imp.csv')"
   ]
  },
  {
   "cell_type": "markdown",
   "id": "d69c9837-5589-43b2-80a9-4b9f58353fc6",
   "metadata": {},
   "source": [
    "There will be no prediction in this part, and therefore the entire data set is used (train + test)."
   ]
  },
  {
   "cell_type": "markdown",
   "id": "70bb7878-d342-4b1c-b105-c99bffa54a86",
   "metadata": {},
   "source": [
    "## Text Note Classification\n",
    "Assumption: Operational_Notes field is written by technician manually.   \n",
    "Situation: a note is written in a new way that it does not exactly match with any of the cleaned existing Operational_Note value.   \n",
    "Goal: to find the closest note for the new variation of human writing.  "
   ]
  },
  {
   "cell_type": "code",
   "execution_count": 34,
   "id": "89e25563-9df1-41c7-adeb-e2a300c004e8",
   "metadata": {},
   "outputs": [],
   "source": [
    "known_notes = df['Operational_Notes'].dropna().unique().tolist()"
   ]
  },
  {
   "cell_type": "code",
   "execution_count": 35,
   "id": "8d790c02-a07f-4679-9d69-8802b23106ba",
   "metadata": {},
   "outputs": [],
   "source": [
    "from sklearn.feature_extraction.text import TfidfVectorizer\n",
    "from sklearn.metrics.pairwise import cosine_similarity\n",
    "import numpy as np\n",
    "\n",
    "# Fit TF-IDF on known notes\n",
    "vectorizer = TfidfVectorizer()\n",
    "X_known = vectorizer.fit_transform(known_notes)\n",
    "\n",
    "def classify_note(new_note):\n",
    "    # Transform the new note\n",
    "    X_new = vectorizer.transform([new_note])\n",
    "    \n",
    "    # Compute cosine similarity\n",
    "    similarities = cosine_similarity(X_new, X_known).flatten()\n",
    "    \n",
    "    # Find the best match\n",
    "    best_idx = np.argmax(similarities)\n",
    "    return known_notes[best_idx], similarities[best_idx]"
   ]
  },
  {
   "cell_type": "code",
   "execution_count": 36,
   "id": "9660de25-9f90-4c0e-9c19-756b00a71556",
   "metadata": {},
   "outputs": [
    {
     "data": {
      "text/plain": [
       "['no_comment',\n",
       " 'Parameters logged',\n",
       " 'Nominal operation',\n",
       " 'Pressures stable',\n",
       " 'Routine check by operator',\n",
       " 'Stroke rate steady',\n",
       " 'Weather condition normal',\n",
       " 'Initial strokes',\n",
       " 'Bringing online after workover',\n",
       " 'Flowline pressured up',\n",
       " 'Well restart initiated',\n",
       " 'Confirming stroke length',\n",
       " 'Flow consistent',\n",
       " 'High motor amps',\n",
       " 'Stuffing box leak',\n",
       " 'Possible rod parting',\n",
       " 'Flow rate drop',\n",
       " 'Gas interference suspected',\n",
       " 'Fluid pound detected',\n",
       " 'Polished rod load erratic',\n",
       " 'Temp anomaly gearbox',\n",
       " 'High vibration gearbox',\n",
       " 'Pressure spike tubing',\n",
       " 'Stuffing box replaced',\n",
       " 'Valve repair',\n",
       " 'Polished rod clamp adjusted',\n",
       " 'Fluid level check',\n",
       " 'Pump serviced',\n",
       " 'Rod string pulled',\n",
       " 'Workover rig on site',\n",
       " 'Gearbox oil change',\n",
       " 'Paraffin cleaned',\n",
       " 'Routine check',\n",
       " 'VFD ramp up',\n",
       " 'Well shut-in - waiting orders',\n",
       " 'Waiting on flowline',\n",
       " 'Well shut-in - low price',\n",
       " 'Monitoring pressures',\n",
       " 'Well shut-in - surface repair',\n",
       " 'Checking surface equipment']"
      ]
     },
     "execution_count": 36,
     "metadata": {},
     "output_type": "execute_result"
    }
   ],
   "source": [
    "known_notes"
   ]
  },
  {
   "cell_type": "markdown",
   "id": "ef38b42a-2e70-46c0-ba57-7b942c779d70",
   "metadata": {},
   "source": [
    "### Use Cases"
   ]
  },
  {
   "cell_type": "code",
   "execution_count": 37,
   "id": "b2478234-0cc1-4b4b-a10b-a76552f3550a",
   "metadata": {},
   "outputs": [
    {
     "name": "stdout",
     "output_type": "stream",
     "text": [
      "Closest note: Well shut-in - surface repair (Similarity: 0.60)\n"
     ]
    }
   ],
   "source": [
    "# Example 1\n",
    "note = \"well was shut down for repairs\"\n",
    "closest_note, score = classify_note(note)\n",
    "print(f\"Closest note: {closest_note} (Similarity: {score:.2f})\")"
   ]
  },
  {
   "cell_type": "code",
   "execution_count": 38,
   "id": "21f5cc0c-f869-418a-9bce-e973d8ae2e94",
   "metadata": {},
   "outputs": [
    {
     "name": "stdout",
     "output_type": "stream",
     "text": [
      "Closest note: Pump serviced (Similarity: 0.53)\n"
     ]
    }
   ],
   "source": [
    "# Example 2 \n",
    "note = \"Pump repair done\"\n",
    "closest_note, score = classify_note(note)\n",
    "print(f\"Closest note: {closest_note} (Similarity: {score:.2f})\")"
   ]
  },
  {
   "cell_type": "code",
   "execution_count": 39,
   "id": "069640d2-c219-4b7c-b8c1-1827b105c591",
   "metadata": {},
   "outputs": [
    {
     "name": "stdout",
     "output_type": "stream",
     "text": [
      "Closest note: Well restart initiated (Similarity: 0.48)\n"
     ]
    }
   ],
   "source": [
    "# Example 3 \n",
    "# Example 2 \n",
    "note = \"Well starting\"\n",
    "closest_note, score = classify_note(note)\n",
    "print(f\"Closest note: {closest_note} (Similarity: {score:.2f})\")"
   ]
  },
  {
   "cell_type": "markdown",
   "id": "f090b107-7b1d-45db-99fc-98c7faeb10c3",
   "metadata": {},
   "source": [
    "## Detect Redundant Censor for Minizing Cost "
   ]
  },
  {
   "cell_type": "markdown",
   "id": "36d7c829-4f75-4abe-a166-da227a60edcb",
   "metadata": {},
   "source": [
    "### Correlations Between Covaraites "
   ]
  },
  {
   "cell_type": "markdown",
   "id": "c810feab-8de9-4a48-907b-4d85f122a3ea",
   "metadata": {},
   "source": [
    "#### Inbetween Numerical Values "
   ]
  },
  {
   "cell_type": "markdown",
   "id": "59cf8603-b85c-4106-9c70-2ad80183c706",
   "metadata": {},
   "source": [
    "First, nonparametric rank correlation (Spearman) is observed. "
   ]
  },
  {
   "cell_type": "code",
   "execution_count": 42,
   "id": "ef5227e9-fefb-4ea6-b518-89b30b21e379",
   "metadata": {},
   "outputs": [
    {
     "data": {
      "text/html": [
       "<div>\n",
       "<style scoped>\n",
       "    .dataframe tbody tr th:only-of-type {\n",
       "        vertical-align: middle;\n",
       "    }\n",
       "\n",
       "    .dataframe tbody tr th {\n",
       "        vertical-align: top;\n",
       "    }\n",
       "\n",
       "    .dataframe thead th {\n",
       "        text-align: right;\n",
       "    }\n",
       "</style>\n",
       "<table border=\"1\" class=\"dataframe\">\n",
       "  <thead>\n",
       "    <tr style=\"text-align: right;\">\n",
       "      <th></th>\n",
       "      <th>Timestamp</th>\n",
       "      <th>Well_Operating_Status</th>\n",
       "      <th>Operational_Notes</th>\n",
       "      <th>Acoustic_Sensor_Env_dB</th>\n",
       "      <th>Ambient_Temperature_C</th>\n",
       "      <th>Casing_Pressure_SensorB_psi</th>\n",
       "      <th>Casing_Pressure_psi</th>\n",
       "      <th>Gearbox_Temperature_C</th>\n",
       "      <th>Gearbox_Vibration_mm_s</th>\n",
       "      <th>Hydraulic_Pressure_psi</th>\n",
       "      <th>...</th>\n",
       "      <th>Stroke_Count_Today</th>\n",
       "      <th>Surface_Temperature_C</th>\n",
       "      <th>Tubing_Pressure_psi</th>\n",
       "      <th>VFD_Speed_pct</th>\n",
       "      <th>Monitoring_Alert</th>\n",
       "      <th>Hour</th>\n",
       "      <th>Weekday</th>\n",
       "      <th>Date</th>\n",
       "      <th>IsWeekend</th>\n",
       "      <th>WeekOfMonth</th>\n",
       "    </tr>\n",
       "  </thead>\n",
       "  <tbody>\n",
       "    <tr>\n",
       "      <th>0</th>\n",
       "      <td>2023-01-01 00:00:00</td>\n",
       "      <td>Operating</td>\n",
       "      <td>no_comment</td>\n",
       "      <td>49.227346</td>\n",
       "      <td>38.854665</td>\n",
       "      <td>50.897459</td>\n",
       "      <td>49.256230</td>\n",
       "      <td>67.367428</td>\n",
       "      <td>0.517302</td>\n",
       "      <td>30.170903</td>\n",
       "      <td>...</td>\n",
       "      <td>0</td>\n",
       "      <td>64.128805</td>\n",
       "      <td>197.273721</td>\n",
       "      <td>67.414439</td>\n",
       "      <td>0.0</td>\n",
       "      <td>0</td>\n",
       "      <td>6</td>\n",
       "      <td>2023-01-01</td>\n",
       "      <td>1</td>\n",
       "      <td>0</td>\n",
       "    </tr>\n",
       "    <tr>\n",
       "      <th>1</th>\n",
       "      <td>2023-01-01 00:10:00</td>\n",
       "      <td>Operating</td>\n",
       "      <td>no_comment</td>\n",
       "      <td>40.135114</td>\n",
       "      <td>36.311768</td>\n",
       "      <td>49.925884</td>\n",
       "      <td>48.734318</td>\n",
       "      <td>71.938489</td>\n",
       "      <td>0.481706</td>\n",
       "      <td>29.941944</td>\n",
       "      <td>...</td>\n",
       "      <td>4</td>\n",
       "      <td>64.625281</td>\n",
       "      <td>201.903168</td>\n",
       "      <td>86.075002</td>\n",
       "      <td>0.0</td>\n",
       "      <td>0</td>\n",
       "      <td>6</td>\n",
       "      <td>2023-01-01</td>\n",
       "      <td>1</td>\n",
       "      <td>0</td>\n",
       "    </tr>\n",
       "    <tr>\n",
       "      <th>2</th>\n",
       "      <td>2023-01-01 00:20:00</td>\n",
       "      <td>Operating</td>\n",
       "      <td>no_comment</td>\n",
       "      <td>51.190784</td>\n",
       "      <td>38.751977</td>\n",
       "      <td>50.518002</td>\n",
       "      <td>49.636435</td>\n",
       "      <td>73.476772</td>\n",
       "      <td>0.607282</td>\n",
       "      <td>30.457478</td>\n",
       "      <td>...</td>\n",
       "      <td>8</td>\n",
       "      <td>62.624781</td>\n",
       "      <td>198.521759</td>\n",
       "      <td>73.653432</td>\n",
       "      <td>0.0</td>\n",
       "      <td>0</td>\n",
       "      <td>6</td>\n",
       "      <td>2023-01-01</td>\n",
       "      <td>1</td>\n",
       "      <td>0</td>\n",
       "    </tr>\n",
       "    <tr>\n",
       "      <th>3</th>\n",
       "      <td>2023-01-01 00:30:00</td>\n",
       "      <td>Operating</td>\n",
       "      <td>no_comment</td>\n",
       "      <td>45.558002</td>\n",
       "      <td>40.662510</td>\n",
       "      <td>51.624718</td>\n",
       "      <td>50.175814</td>\n",
       "      <td>72.928716</td>\n",
       "      <td>0.634475</td>\n",
       "      <td>31.381904</td>\n",
       "      <td>...</td>\n",
       "      <td>12</td>\n",
       "      <td>64.064278</td>\n",
       "      <td>204.559909</td>\n",
       "      <td>74.619125</td>\n",
       "      <td>0.0</td>\n",
       "      <td>0</td>\n",
       "      <td>6</td>\n",
       "      <td>2023-01-01</td>\n",
       "      <td>1</td>\n",
       "      <td>0</td>\n",
       "    </tr>\n",
       "    <tr>\n",
       "      <th>4</th>\n",
       "      <td>2023-01-01 00:40:00</td>\n",
       "      <td>Operating</td>\n",
       "      <td>no_comment</td>\n",
       "      <td>45.064738</td>\n",
       "      <td>37.945231</td>\n",
       "      <td>52.292048</td>\n",
       "      <td>49.078709</td>\n",
       "      <td>68.188568</td>\n",
       "      <td>0.477692</td>\n",
       "      <td>29.956880</td>\n",
       "      <td>...</td>\n",
       "      <td>16</td>\n",
       "      <td>63.969226</td>\n",
       "      <td>202.119309</td>\n",
       "      <td>76.773574</td>\n",
       "      <td>0.0</td>\n",
       "      <td>0</td>\n",
       "      <td>6</td>\n",
       "      <td>2023-01-01</td>\n",
       "      <td>1</td>\n",
       "      <td>0</td>\n",
       "    </tr>\n",
       "  </tbody>\n",
       "</table>\n",
       "<p>5 rows × 26 columns</p>\n",
       "</div>"
      ],
      "text/plain": [
       "             Timestamp Well_Operating_Status Operational_Notes  \\\n",
       "0  2023-01-01 00:00:00             Operating        no_comment   \n",
       "1  2023-01-01 00:10:00             Operating        no_comment   \n",
       "2  2023-01-01 00:20:00             Operating        no_comment   \n",
       "3  2023-01-01 00:30:00             Operating        no_comment   \n",
       "4  2023-01-01 00:40:00             Operating        no_comment   \n",
       "\n",
       "   Acoustic_Sensor_Env_dB  Ambient_Temperature_C  Casing_Pressure_SensorB_psi  \\\n",
       "0               49.227346              38.854665                    50.897459   \n",
       "1               40.135114              36.311768                    49.925884   \n",
       "2               51.190784              38.751977                    50.518002   \n",
       "3               45.558002              40.662510                    51.624718   \n",
       "4               45.064738              37.945231                    52.292048   \n",
       "\n",
       "   Casing_Pressure_psi  Gearbox_Temperature_C  Gearbox_Vibration_mm_s  \\\n",
       "0            49.256230              67.367428                0.517302   \n",
       "1            48.734318              71.938489                0.481706   \n",
       "2            49.636435              73.476772                0.607282   \n",
       "3            50.175814              72.928716                0.634475   \n",
       "4            49.078709              68.188568                0.477692   \n",
       "\n",
       "   Hydraulic_Pressure_psi  ...  Stroke_Count_Today Surface_Temperature_C  \\\n",
       "0               30.170903  ...                   0             64.128805   \n",
       "1               29.941944  ...                   4             64.625281   \n",
       "2               30.457478  ...                   8             62.624781   \n",
       "3               31.381904  ...                  12             64.064278   \n",
       "4               29.956880  ...                  16             63.969226   \n",
       "\n",
       "  Tubing_Pressure_psi  VFD_Speed_pct  Monitoring_Alert  Hour  Weekday  \\\n",
       "0          197.273721      67.414439               0.0     0        6   \n",
       "1          201.903168      86.075002               0.0     0        6   \n",
       "2          198.521759      73.653432               0.0     0        6   \n",
       "3          204.559909      74.619125               0.0     0        6   \n",
       "4          202.119309      76.773574               0.0     0        6   \n",
       "\n",
       "         Date  IsWeekend  WeekOfMonth  \n",
       "0  2023-01-01          1            0  \n",
       "1  2023-01-01          1            0  \n",
       "2  2023-01-01          1            0  \n",
       "3  2023-01-01          1            0  \n",
       "4  2023-01-01          1            0  \n",
       "\n",
       "[5 rows x 26 columns]"
      ]
     },
     "execution_count": 42,
     "metadata": {},
     "output_type": "execute_result"
    }
   ],
   "source": [
    "df.head()"
   ]
  },
  {
   "cell_type": "code",
   "execution_count": null,
   "id": "4249dd22-91aa-4189-a811-eaf6c491a1d8",
   "metadata": {},
   "outputs": [],
   "source": [
    "categorical_cols = [\n",
    "    'Operational_Notes',\n",
    "    'Well_Operating_Status',\n",
    "    'Lubrication_Status',\n",
    "    'Maintenance_Code'\n",
    "]"
   ]
  },
  {
   "cell_type": "code",
   "execution_count": 44,
   "id": "21a10031-d1cc-48a2-9117-02f530309bf7",
   "metadata": {},
   "outputs": [],
   "source": [
    "df_drp = df.drop(columns = {'Hour', 'Weekday', 'Date', 'IsWeekend', 'WeekOfMonth'})"
   ]
  },
  {
   "cell_type": "code",
   "execution_count": 46,
   "id": "f18b76a6-dda0-45eb-b371-ad6c30f5936e",
   "metadata": {
    "scrolled": true
   },
   "outputs": [
    {
     "data": {
      "image/png": "[encoded data removed]",
      "text/plain": [
       "<Figure size 1200x1000 with 2 Axes>"
      ]
     },
     "metadata": {},
     "output_type": "display_data"
    }
   ],
   "source": [
    "import seaborn as sns\n",
    "import matplotlib.pyplot as plt\n",
    "\n",
    "# Subset your numeric sensor columns \n",
    "sensor_cols = [col for col in df_drp.columns if col not in ['Well_ID', 'Timestamp', 'Monitoring_Alert', \n",
    "                                                        'Operational_Notes', 'Well_Operating_Status',\n",
    "                                                       'Maintenance_Code', 'Lubrication_Status']]\n",
    "sensor_data = df_drp[sensor_cols]\n",
    "\n",
    "# Compute correlation matrix\n",
    "corr_matrix = sensor_data.corr(method='spearman')\n",
    "\n",
    "# Plot\n",
    "plt.figure(figsize=(12, 10))\n",
    "sns.heatmap(corr_matrix, cmap=\"coolwarm\", annot=False, center=0)\n",
    "plt.title(\"Spearman Correlation Between Sensors\")\n",
    "plt.show()"
   ]
  },
  {
   "cell_type": "code",
   "execution_count": 47,
   "id": "44bb25d7-8b10-453b-a982-60fd689634e3",
   "metadata": {},
   "outputs": [
    {
     "name": "stdout",
     "output_type": "stream",
     "text": [
      "(Casing_Pressure_SensorB_psi, Casing_Pressure_psi)    0.854863\n",
      "(Tubing_Pressure_psi, Gearbox_Temperature_C)          0.828621\n",
      "(Tubing_Pressure_psi, Motor_Power_kW)                 0.749818\n",
      "(Motor_Power_kW, Gearbox_Temperature_C)               0.748297\n",
      "(Surface_Temperature_C, Ambient_Temperature_C)        0.742332\n",
      "dtype: float64\n"
     ]
    }
   ],
   "source": [
    "# Step 1: Take the absolute value of the correlation\n",
    "abs_corr = corr_matrix.abs()\n",
    "\n",
    "# Step 2: Unstack the matrix to a long-form DataFrame\n",
    "corr_pairs = abs_corr.unstack()\n",
    "\n",
    "# Step 3: Remove self-correlations (i.e., correlation of a variable with itself)\n",
    "corr_pairs = corr_pairs[corr_pairs.index.get_level_values(0) != corr_pairs.index.get_level_values(1)]\n",
    "\n",
    "# Step 4: Drop duplicate pairs (since correlation is symmetric: A-B == B-A)\n",
    "corr_pairs = corr_pairs.groupby([frozenset(pair) for pair in corr_pairs.index]).max()\n",
    "\n",
    "# Step 5: Filter strong correlations (e.g., above 0.7)\n",
    "strong_corr = corr_pairs[corr_pairs > 0.7].sort_values(ascending=False)\n",
    "\n",
    "# Display the result\n",
    "print(strong_corr)"
   ]
  },
  {
   "cell_type": "markdown",
   "id": "75e94c7a-e858-4364-a18e-0746872a768a",
   "metadata": {},
   "source": [
    "Moter_Power_kW, Surface_Temperature_C, and Casing_Pressure_psi were top 3 variables for supporting Monitoring_Alert prediction from part 1. \n",
    "As 5 strong positive Spearman nonparametric correlation shown above, Ambyint may consider not measuring correlated features with the top 3 variables. For example, Casing_Pressure_SensorB_psi could be detached in case of the maintanance/installation cost of the sensor is not economical, as Casing_Pressure_psi gives more informative sensoring data in regard of solving Part 1 problem."
   ]
  },
  {
   "cell_type": "markdown",
   "id": "8492cb98-b0f7-464e-8b30-2280a2593b8a",
   "metadata": {},
   "source": [
    "### Inbetween Categorical Variables"
   ]
  },
  {
   "cell_type": "markdown",
   "id": "fb296107-e7c9-45d5-be33-1c225655d16c",
   "metadata": {},
   "source": [
    "Notice that there are plenty of missing values on categorical variables, and the missing values are assumed to be another category based on the context of variable name and row-wise missing cases. "
   ]
  },
  {
   "cell_type": "code",
   "execution_count": 48,
   "id": "6ad2d44f-5f21-4f29-800e-0527844fb967",
   "metadata": {},
   "outputs": [],
   "source": [
    "from scipy.stats import chi2_contingency\n",
    "\n",
    "def cramers_v_matrix(df):\n",
    "    # Select only categorical columns\n",
    "    cat_cols = df.select_dtypes(include=['object', 'category']).columns\n",
    "    result = pd.DataFrame(index=cat_cols, columns=cat_cols, dtype=float)\n",
    "\n",
    "    for col1 in cat_cols:\n",
    "        for col2 in cat_cols:\n",
    "            if col1 == col2:\n",
    "                result.loc[col1, col2] = np.nan  # optional: set self-pairs to NaN\n",
    "            else:\n",
    "                # Cross-tabulate and compute Cramér's V\n",
    "                confusion_matrix = pd.crosstab(df[col1], df[col2])\n",
    "                chi2 = chi2_contingency(confusion_matrix, correction=False)[0]\n",
    "                n = confusion_matrix.sum().sum()\n",
    "                phi2 = chi2 / n\n",
    "                r, k = confusion_matrix.shape\n",
    "                v = np.sqrt(phi2 / min(k - 1, r - 1))\n",
    "                result.loc[col1, col2] = v\n",
    "\n",
    "    return result"
   ]
  },
  {
   "cell_type": "code",
   "execution_count": 59,
   "id": "88d0aba4-62db-465f-92aa-13cb0b16d229",
   "metadata": {},
   "outputs": [],
   "source": [
    "categorical_cols = [\n",
    "    'Operational_Notes',\n",
    "    'Well_Operating_Status',\n",
    "    'Lubrication_Status',\n",
    "    'Maintenance_Code'\n",
    "]\n",
    "for col in categorical_cols:\n",
    "    if col in df.columns:\n",
    "        df[col] = pd.Categorical(df[col])"
   ]
  },
  {
   "cell_type": "code",
   "execution_count": 60,
   "id": "0e023997-0384-445c-8247-60322291387f",
   "metadata": {},
   "outputs": [
    {
     "name": "stdout",
     "output_type": "stream",
     "text": [
      "<class 'pandas.core.frame.DataFrame'>\n",
      "RangeIndex: 50984 entries, 0 to 50983\n",
      "Data columns (total 4 columns):\n",
      " #   Column                 Non-Null Count  Dtype   \n",
      "---  ------                 --------------  -----   \n",
      " 0   Operational_Notes      50984 non-null  category\n",
      " 1   Well_Operating_Status  50984 non-null  category\n",
      " 2   Lubrication_Status     50984 non-null  category\n",
      " 3   Maintenance_Code       50984 non-null  category\n",
      "dtypes: category(4)\n",
      "memory usage: 201.2 KB\n"
     ]
    }
   ],
   "source": [
    "df[categorical_cols].info()"
   ]
  },
  {
   "cell_type": "code",
   "execution_count": 61,
   "id": "d1ec32ea-939d-4ff5-b838-41eefff191b5",
   "metadata": {},
   "outputs": [],
   "source": [
    "df_result = cramers_v_matrix(df[categorical_cols])"
   ]
  },
  {
   "cell_type": "code",
   "execution_count": 62,
   "id": "b6cd33d5-1ed0-4495-860b-b64f406d9b5a",
   "metadata": {},
   "outputs": [
    {
     "data": {
      "text/html": [
       "<div>\n",
       "<style scoped>\n",
       "    .dataframe tbody tr th:only-of-type {\n",
       "        vertical-align: middle;\n",
       "    }\n",
       "\n",
       "    .dataframe tbody tr th {\n",
       "        vertical-align: top;\n",
       "    }\n",
       "\n",
       "    .dataframe thead th {\n",
       "        text-align: right;\n",
       "    }\n",
       "</style>\n",
       "<table border=\"1\" class=\"dataframe\">\n",
       "  <thead>\n",
       "    <tr style=\"text-align: right;\">\n",
       "      <th></th>\n",
       "      <th>Operational_Notes</th>\n",
       "      <th>Well_Operating_Status</th>\n",
       "      <th>Lubrication_Status</th>\n",
       "      <th>Maintenance_Code</th>\n",
       "    </tr>\n",
       "  </thead>\n",
       "  <tbody>\n",
       "    <tr>\n",
       "      <th>Operational_Notes</th>\n",
       "      <td>NaN</td>\n",
       "      <td>0.877226</td>\n",
       "      <td>0.025173</td>\n",
       "      <td>0.027047</td>\n",
       "    </tr>\n",
       "    <tr>\n",
       "      <th>Well_Operating_Status</th>\n",
       "      <td>0.877226</td>\n",
       "      <td>NaN</td>\n",
       "      <td>0.020880</td>\n",
       "      <td>0.029026</td>\n",
       "    </tr>\n",
       "    <tr>\n",
       "      <th>Lubrication_Status</th>\n",
       "      <td>0.025173</td>\n",
       "      <td>0.020880</td>\n",
       "      <td>NaN</td>\n",
       "      <td>0.011649</td>\n",
       "    </tr>\n",
       "    <tr>\n",
       "      <th>Maintenance_Code</th>\n",
       "      <td>0.027047</td>\n",
       "      <td>0.029026</td>\n",
       "      <td>0.011649</td>\n",
       "      <td>NaN</td>\n",
       "    </tr>\n",
       "  </tbody>\n",
       "</table>\n",
       "</div>"
      ],
      "text/plain": [
       "                       Operational_Notes  Well_Operating_Status  \\\n",
       "Operational_Notes                    NaN               0.877226   \n",
       "Well_Operating_Status           0.877226                    NaN   \n",
       "Lubrication_Status              0.025173               0.020880   \n",
       "Maintenance_Code                0.027047               0.029026   \n",
       "\n",
       "                       Lubrication_Status  Maintenance_Code  \n",
       "Operational_Notes                0.025173          0.027047  \n",
       "Well_Operating_Status            0.020880          0.029026  \n",
       "Lubrication_Status                    NaN          0.011649  \n",
       "Maintenance_Code                 0.011649               NaN  "
      ]
     },
     "execution_count": 62,
     "metadata": {},
     "output_type": "execute_result"
    }
   ],
   "source": [
    "df_result"
   ]
  },
  {
   "cell_type": "markdown",
   "id": "03764cc8-9be2-4d20-85c7-7bf9efffe9dd",
   "metadata": {},
   "source": [
    "It is shown that Operational_Notes and Well_Operating_Status are very strongly associated. There could be MNAR or MAR relationships between them."
   ]
  },
  {
   "cell_type": "markdown",
   "id": "79d7d65d-7bdd-41cf-b84e-cdb0a0041728",
   "metadata": {},
   "source": [
    "\n",
    "If it were any of the cases, then straightforwardly remove one:\n",
    "1. When there is no operational note then there is always no operating status\n",
    "2. When there is no operating status, then there is always missing operational notes.\n",
    "\n",
    "In case 1., operating status is strictly less informative than the note, so the status variable could be skipped to be collected.\n",
    "In case 2., operational note is strictly less informative than the status, then the effort to write the note could be saved. "
   ]
  },
  {
   "cell_type": "code",
   "execution_count": 68,
   "id": "500b2e65-e32c-4583-a17c-2e98f78a167b",
   "metadata": {},
   "outputs": [],
   "source": [
    "var1 = 'Operational_Notes'\n",
    "var2 = 'Well_Operating_Status'"
   ]
  },
  {
   "cell_type": "code",
   "execution_count": 69,
   "id": "478bede6-fe5c-4890-aa66-149b691d097e",
   "metadata": {},
   "outputs": [],
   "source": [
    "miss_op = df[var1]=='no_comment'"
   ]
  },
  {
   "cell_type": "code",
   "execution_count": 70,
   "id": "cea5c50d-d2b9-47a7-ac07-0e95c8732d75",
   "metadata": {},
   "outputs": [],
   "source": [
    "miss_we = df[var2]=='Operating'"
   ]
  },
  {
   "cell_type": "code",
   "execution_count": 71,
   "id": "c4f66576-7ee6-4359-a514-be87764b79c2",
   "metadata": {},
   "outputs": [],
   "source": [
    "table = pd.crosstab(miss_op, miss_we)"
   ]
  },
  {
   "cell_type": "code",
   "execution_count": 73,
   "id": "1e25e75a-9a1f-4405-a7e4-b5f885fce79c",
   "metadata": {},
   "outputs": [
    {
     "name": "stdout",
     "output_type": "stream",
     "text": [
      "Missingness relationship between 'Operational_Notes' and 'Well_Operating_Status':\n",
      "\n",
      "Well_Operating_Status  False  True \n",
      "Operational_Notes                  \n",
      "False                    548   1744\n",
      "True                     172  48520\n"
     ]
    }
   ],
   "source": [
    "print(f\"Missingness relationship between '{var1}' and '{var2}':\\n\")\n",
    "print(table)"
   ]
  },
  {
   "cell_type": "markdown",
   "id": "5010689a-e9cb-4c5b-bb7a-e98f49ab0370",
   "metadata": {},
   "source": [
    "It is found that both of cases are possible where:\n",
    "\n",
    "1. There is an operational notes, but there is no well operating status.\n",
    "2. There is well operating status avaiable, but there is no operational notes.\n",
    "\n",
    "\n",
    "It is still possible to save the cost to collect operating status since from Part 1 since: \n",
    "a. operating status was the least informative feature from feature importance plot\n",
    "b. operational note was the most informative feature from feature importance plot with 0.48 importance. \n",
    "\n",
    "It is likely to be the situation that the two variables are manually logged by a maintenance technician, and they sometimes only log the status but not write a note (172), but more likely they write a note but do not log the status (1744). The effort could be saved for the technicians of logging status, as notes are more informative."
   ]
  },
  {
   "cell_type": "markdown",
   "id": "f5ec7088-fe15-42de-b7bb-598e91ffa73e",
   "metadata": {},
   "source": [
    "# Other Potential Directions \n",
    "## Idea 3: Early Warning System \n",
    "Probability of red flag: bivariate result utilization with logistic regression   \n",
    "Algorithm (rules/models) for not too late intervention \n",
    "\n",
    "## Idea 4: Operating Regime Profiling (template)\n",
    "- Cluster sensor patterns when the system is normal\n",
    "- Compare clusters between alert vs. normal conditions\n",
    "- Propose operating guidelines or thresholds to avoid alerts"
   ]
  },
  {
   "cell_type": "code",
   "execution_count": null,
   "id": "8e64e820-e007-4819-9958-32d0faf3d4e3",
   "metadata": {},
   "outputs": [],
   "source": []
  }
 ],
 "metadata": {
  "kernelspec": {
   "display_name": "Python 3 (ipykernel)",
   "language": "python",
   "name": "python3"
  },
  "language_info": {
   "codemirror_mode": {
    "name": "ipython",
    "version": 3
   },
   "file_extension": ".py",
   "mimetype": "text/x-python",
   "name": "python",
   "nbconvert_exporter": "python",
   "pygments_lexer": "ipython3",
   "version": "3.12.7"
  }
 },
 "nbformat": 4,
 "nbformat_minor": 5
}
